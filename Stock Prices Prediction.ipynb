{
 "cells": [
  {
   "cell_type": "markdown",
   "metadata": {},
   "source": [
    "# LSTM- Long Short Term Memory Network"
   ]
  },
  {
   "cell_type": "code",
   "execution_count": 1,
   "metadata": {},
   "outputs": [],
   "source": [
    "#Importing Libraries\n",
    "\n",
    "import os \n",
    "import numpy as np \n",
    "import pandas as pd \n",
    "import matplotlib.pyplot as plt\n",
    "from keras.callbacks import EarlyStopping"
   ]
  },
  {
   "cell_type": "code",
   "execution_count": 2,
   "metadata": {},
   "outputs": [
    {
     "data": {
      "text/html": [
       "<div>\n",
       "<style scoped>\n",
       "    .dataframe tbody tr th:only-of-type {\n",
       "        vertical-align: middle;\n",
       "    }\n",
       "\n",
       "    .dataframe tbody tr th {\n",
       "        vertical-align: top;\n",
       "    }\n",
       "\n",
       "    .dataframe thead th {\n",
       "        text-align: right;\n",
       "    }\n",
       "</style>\n",
       "<table border=\"1\" class=\"dataframe\">\n",
       "  <thead>\n",
       "    <tr style=\"text-align: right;\">\n",
       "      <th></th>\n",
       "      <th>Date</th>\n",
       "      <th>Open</th>\n",
       "      <th>High</th>\n",
       "      <th>Low</th>\n",
       "      <th>Close</th>\n",
       "      <th>Adj Close</th>\n",
       "      <th>Volume</th>\n",
       "    </tr>\n",
       "  </thead>\n",
       "  <tbody>\n",
       "    <tr>\n",
       "      <th>0</th>\n",
       "      <td>2000-01-04</td>\n",
       "      <td>6000.0</td>\n",
       "      <td>6110.0</td>\n",
       "      <td>5660.0</td>\n",
       "      <td>6110.0</td>\n",
       "      <td>4469.932617</td>\n",
       "      <td>74195000</td>\n",
       "    </tr>\n",
       "    <tr>\n",
       "      <th>1</th>\n",
       "      <td>2000-01-05</td>\n",
       "      <td>5800.0</td>\n",
       "      <td>6060.0</td>\n",
       "      <td>5520.0</td>\n",
       "      <td>5580.0</td>\n",
       "      <td>4082.197021</td>\n",
       "      <td>74680000</td>\n",
       "    </tr>\n",
       "    <tr>\n",
       "      <th>2</th>\n",
       "      <td>2000-01-06</td>\n",
       "      <td>5750.0</td>\n",
       "      <td>5780.0</td>\n",
       "      <td>5580.0</td>\n",
       "      <td>5620.0</td>\n",
       "      <td>4111.459473</td>\n",
       "      <td>54390000</td>\n",
       "    </tr>\n",
       "    <tr>\n",
       "      <th>3</th>\n",
       "      <td>2000-01-07</td>\n",
       "      <td>5560.0</td>\n",
       "      <td>5670.0</td>\n",
       "      <td>5360.0</td>\n",
       "      <td>5540.0</td>\n",
       "      <td>4052.931885</td>\n",
       "      <td>40305000</td>\n",
       "    </tr>\n",
       "    <tr>\n",
       "      <th>4</th>\n",
       "      <td>2000-01-10</td>\n",
       "      <td>5600.0</td>\n",
       "      <td>5770.0</td>\n",
       "      <td>5580.0</td>\n",
       "      <td>5770.0</td>\n",
       "      <td>4221.196777</td>\n",
       "      <td>46880000</td>\n",
       "    </tr>\n",
       "  </tbody>\n",
       "</table>\n",
       "</div>"
      ],
      "text/plain": [
       "         Date    Open    High     Low   Close    Adj Close    Volume\n",
       "0  2000-01-04  6000.0  6110.0  5660.0  6110.0  4469.932617  74195000\n",
       "1  2000-01-05  5800.0  6060.0  5520.0  5580.0  4082.197021  74680000\n",
       "2  2000-01-06  5750.0  5780.0  5580.0  5620.0  4111.459473  54390000\n",
       "3  2000-01-07  5560.0  5670.0  5360.0  5540.0  4052.931885  40305000\n",
       "4  2000-01-10  5600.0  5770.0  5580.0  5770.0  4221.196777  46880000"
      ]
     },
     "execution_count": 2,
     "metadata": {},
     "output_type": "execute_result"
    }
   ],
   "source": [
    "#Loading Training Dataset\n",
    "\n",
    "dataset_train = pd.read_csv(\"dataset.csv\") \n",
    "dataset_train.head()"
   ]
  },
  {
   "cell_type": "code",
   "execution_count": 3,
   "metadata": {},
   "outputs": [
    {
     "name": "stdout",
     "output_type": "stream",
     "text": [
      "[[ 6000.]\n",
      " [ 5800.]\n",
      " [ 5750.]\n",
      " ...\n",
      " [75000.]\n",
      " [74800.]\n",
      " [    0.]]\n",
      "(6047, 1)\n"
     ]
    }
   ],
   "source": [
    "#Using the Open Stock Price Column to Train the Model\n",
    "\n",
    "training_set = dataset_train.iloc[:,1:2].values\n",
    "print(training_set)\n",
    "print(training_set.shape)"
   ]
  },
  {
   "cell_type": "code",
   "execution_count": 4,
   "metadata": {},
   "outputs": [
    {
     "data": {
      "text/plain": [
       "array([[0.06644518],\n",
       "       [0.06423034],\n",
       "       [0.06367663],\n",
       "       ...,\n",
       "       [0.83056478],\n",
       "       [0.82834994],\n",
       "       [0.        ]])"
      ]
     },
     "execution_count": 4,
     "metadata": {},
     "output_type": "execute_result"
    }
   ],
   "source": [
    "#Normalizing the Dataset\n",
    "\n",
    "from sklearn.preprocessing import MinMaxScaler\n",
    "\n",
    "scaler = MinMaxScaler (feature_range = (0,1))\n",
    "scaled_training_set = scaler.fit_transform(training_set)\n",
    "scaled_training_set"
   ]
  },
  {
   "cell_type": "code",
   "execution_count": 5,
   "metadata": {},
   "outputs": [],
   "source": [
    "#Creating X_train and y_train Data Structures\n",
    "\n",
    "X_train = []\n",
    "Y_train = []\n",
    "\n",
    "for i in range(60,1258):\n",
    "    X_train.append(scaled_training_set[i-60:i, 0])\n",
    "    Y_train.append(scaled_training_set[i, 0])\n",
    "\n",
    "X_train = np.array(X_train)\n",
    "Y_train = np.array(Y_train)"
   ]
  },
  {
   "cell_type": "code",
   "execution_count": 6,
   "metadata": {},
   "outputs": [
    {
     "name": "stdout",
     "output_type": "stream",
     "text": [
      "(1198, 60)\n",
      "(1198,)\n"
     ]
    }
   ],
   "source": [
    "print(X_train.shape)\n",
    "print(Y_train.shape)"
   ]
  },
  {
   "cell_type": "code",
   "execution_count": 7,
   "metadata": {},
   "outputs": [
    {
     "data": {
      "text/plain": [
       "(1198, 60, 1)"
      ]
     },
     "execution_count": 7,
     "metadata": {},
     "output_type": "execute_result"
    }
   ],
   "source": [
    "#Reshape the Data\n",
    "\n",
    "X_train = np.reshape(X_train, (X_train.shape[0], X_train.shape[1], 1))\n",
    "X_train.shape"
   ]
  },
  {
   "cell_type": "code",
   "execution_count": 8,
   "metadata": {},
   "outputs": [],
   "source": [
    "#Importing Libraries for LSTM Model\n",
    "\n",
    "from keras.models import Sequential\n",
    "from keras.layers import LSTM\n",
    "from keras.layers import Dense\n",
    "from keras.layers import Dropout"
   ]
  },
  {
   "cell_type": "code",
   "execution_count": 9,
   "metadata": {},
   "outputs": [],
   "source": [
    "# Defining a complex LSTM model\n",
    "\n",
    "regressor = Sequential()\n",
    "\n",
    "regressor.add(LSTM(units=64, return_sequences=True, input_shape=(X_train.shape[1], 1)))\n",
    "regressor.add(Dropout(0.2))\n",
    "\n",
    "regressor.add(LSTM(units=64, return_sequences=True))\n",
    "regressor.add(Dropout(0.2))\n",
    "\n",
    "regressor.add(LSTM(units=64, return_sequences=True))\n",
    "regressor.add(Dropout(0.2))\n",
    "\n",
    "regressor.add(LSTM(units=64))\n",
    "regressor.add(Dropout(0.2))\n",
    "\n",
    "regressor.add(Dense(units=1))\n"
   ]
  },
  {
   "cell_type": "code",
   "execution_count": 10,
   "metadata": {},
   "outputs": [],
   "source": [
    "# Compile the model with Adam optimizer and mean squared error loss\n",
    "\n",
    "regressor.compile(optimizer='adam', loss='mean_squared_error', metrics=['mean_squared_error'])\n"
   ]
  },
  {
   "cell_type": "code",
   "execution_count": 11,
   "metadata": {},
   "outputs": [],
   "source": [
    "# Using early stopping to prevent overfitting\n",
    "\n",
    "early_stopping = EarlyStopping(monitor='val_loss', patience=5, restore_best_weights=True)\n"
   ]
  },
  {
   "cell_type": "code",
   "execution_count": 12,
   "metadata": {},
   "outputs": [
    {
     "name": "stdout",
     "output_type": "stream",
     "text": [
      "Epoch 1/100\n",
      "34/34 [==============================] - 20s 219ms/step - loss: 6.3744e-04 - mean_squared_error: 6.3744e-04 - val_loss: 1.2231e-04 - val_mean_squared_error: 1.2231e-04\n",
      "Epoch 2/100\n",
      "34/34 [==============================] - 4s 122ms/step - loss: 9.4365e-05 - mean_squared_error: 9.4365e-05 - val_loss: 1.2992e-04 - val_mean_squared_error: 1.2992e-04\n",
      "Epoch 3/100\n",
      "34/34 [==============================] - 4s 120ms/step - loss: 8.9570e-05 - mean_squared_error: 8.9570e-05 - val_loss: 6.8277e-05 - val_mean_squared_error: 6.8277e-05\n",
      "Epoch 4/100\n",
      "34/34 [==============================] - 4s 122ms/step - loss: 8.0385e-05 - mean_squared_error: 8.0385e-05 - val_loss: 9.2288e-05 - val_mean_squared_error: 9.2288e-05\n",
      "Epoch 5/100\n",
      "34/34 [==============================] - 4s 121ms/step - loss: 7.8847e-05 - mean_squared_error: 7.8847e-05 - val_loss: 6.9636e-05 - val_mean_squared_error: 6.9636e-05\n",
      "Epoch 6/100\n",
      "34/34 [==============================] - 4s 118ms/step - loss: 7.7058e-05 - mean_squared_error: 7.7058e-05 - val_loss: 4.2376e-05 - val_mean_squared_error: 4.2376e-05\n",
      "Epoch 7/100\n",
      "34/34 [==============================] - 4s 121ms/step - loss: 6.1702e-05 - mean_squared_error: 6.1702e-05 - val_loss: 4.8982e-05 - val_mean_squared_error: 4.8982e-05\n",
      "Epoch 8/100\n",
      "34/34 [==============================] - 4s 120ms/step - loss: 6.1593e-05 - mean_squared_error: 6.1593e-05 - val_loss: 3.3995e-05 - val_mean_squared_error: 3.3995e-05\n",
      "Epoch 9/100\n",
      "34/34 [==============================] - 4s 121ms/step - loss: 6.1945e-05 - mean_squared_error: 6.1945e-05 - val_loss: 4.8524e-05 - val_mean_squared_error: 4.8524e-05\n",
      "Epoch 10/100\n",
      "34/34 [==============================] - 4s 121ms/step - loss: 6.2697e-05 - mean_squared_error: 6.2697e-05 - val_loss: 4.9313e-05 - val_mean_squared_error: 4.9313e-05\n",
      "Epoch 11/100\n",
      "34/34 [==============================] - 4s 119ms/step - loss: 8.6796e-05 - mean_squared_error: 8.6796e-05 - val_loss: 9.0582e-05 - val_mean_squared_error: 9.0582e-05\n",
      "Epoch 12/100\n",
      "34/34 [==============================] - 4s 127ms/step - loss: 5.9065e-05 - mean_squared_error: 5.9065e-05 - val_loss: 3.5429e-05 - val_mean_squared_error: 3.5429e-05\n",
      "Epoch 13/100\n",
      "34/34 [==============================] - 5s 150ms/step - loss: 5.2795e-05 - mean_squared_error: 5.2795e-05 - val_loss: 4.0322e-05 - val_mean_squared_error: 4.0322e-05\n"
     ]
    }
   ],
   "source": [
    "# Training the model with early stopping\n",
    "\n",
    "history = regressor.fit(X_train, Y_train, epochs=100, batch_size=32, validation_split=0.1, callbacks=[early_stopping])\n"
   ]
  },
  {
   "cell_type": "code",
   "execution_count": 13,
   "metadata": {},
   "outputs": [
    {
     "data": {
      "image/png": "[encoded data removed]",
      "text/plain": [
       "<Figure size 432x288 with 1 Axes>"
      ]
     },
     "metadata": {
      "needs_background": "light"
     },
     "output_type": "display_data"
    }
   ],
   "source": [
    "# Plotting training and validation loss\n",
    "\n",
    "plt.plot(history.history['loss'], label='Training Loss')\n",
    "plt.plot(history.history['val_loss'], label='Validation Loss')\n",
    "plt.xlabel('Epoch')\n",
    "plt.ylabel('Loss')\n",
    "plt.legend()\n",
    "plt.show()"
   ]
  },
  {
   "cell_type": "code",
   "execution_count": 14,
   "metadata": {},
   "outputs": [],
   "source": [
    "# Load test dataset\n",
    "\n",
    "dataset_test = pd.read_csv(\"dataset.csv\")\n",
    "actual_stock_price = dataset_test.iloc[:, 1:2].values"
   ]
  },
  {
   "cell_type": "code",
   "execution_count": 15,
   "metadata": {},
   "outputs": [],
   "source": [
    "# Combining train and test datasets to prepare inputs for prediction\n",
    "\n",
    "dataset_total = pd.concat((dataset_train['Open'], dataset_test['Open']), axis=0)\n",
    "inputs = dataset_total[len(dataset_total) - len(dataset_test) - 60:].values\n",
    "inputs = inputs.reshape(-1, 1)\n",
    "inputs = scaler.transform(inputs)\n",
    "\n",
    "X_test = []"
   ]
  },
  {
   "cell_type": "code",
   "execution_count": 16,
   "metadata": {},
   "outputs": [],
   "source": [
    "# Creating input sequences for prediction\n",
    "\n",
    "for i in range(60, len(inputs)):\n",
    "    X_test.append(inputs[i - 60:i, 0])\n",
    "\n",
    "X_test = np.array(X_test)\n",
    "X_test = np.reshape(X_test, (X_test.shape[0], X_test.shape[1], 1))"
   ]
  },
  {
   "cell_type": "code",
   "execution_count": 17,
   "metadata": {},
   "outputs": [
    {
     "name": "stdout",
     "output_type": "stream",
     "text": [
      "189/189 [==============================] - 12s 46ms/step\n"
     ]
    }
   ],
   "source": [
    "# Making predictions\n",
    "\n",
    "predicted_stock_price = regressor.predict(X_test)"
   ]
  },
  {
   "cell_type": "code",
   "execution_count": 18,
   "metadata": {},
   "outputs": [],
   "source": [
    "# Inverse scaling to get actual stock prices\n",
    "\n",
    "predicted_stock_price = scaler.inverse_transform(predicted_stock_price)"
   ]
  },
  {
   "cell_type": "code",
   "execution_count": 19,
   "metadata": {},
   "outputs": [
    {
     "name": "stdout",
     "output_type": "stream",
     "text": [
      "Test MSE: 22859537.500968315\n",
      "Test MAE: 2782.497258939092\n"
     ]
    }
   ],
   "source": [
    "# Calculate Mean Squared Error (MSE) and Mean Absolute Error (MAE) for testing data\n",
    "\n",
    "test_mse = np.mean(np.square(predicted_stock_price - actual_stock_price))\n",
    "test_mae = np.mean(np.abs(predicted_stock_price - actual_stock_price))\n",
    "print(\"Test MSE:\", test_mse)\n",
    "print(\"Test MAE:\", test_mae)\n"
   ]
  },
  {
   "cell_type": "code",
   "execution_count": 20,
   "metadata": {},
   "outputs": [
    {
     "name": "stdout",
     "output_type": "stream",
     "text": [
      "Train MSE: 5.279506876831874e-05\n"
     ]
    }
   ],
   "source": [
    "# Printing the Mean Squared Error (MSE)\n",
    "\n",
    "train_mse = history.history['loss'][-1]\n",
    "print(\"Train MSE:\", train_mse)"
   ]
  },
  {
   "cell_type": "code",
   "execution_count": 21,
   "metadata": {},
   "outputs": [
    {
     "data": {
      "image/png": "[encoded data removed]",
      "text/plain": [
       "<Figure size 432x288 with 1 Axes>"
      ]
     },
     "metadata": {
      "needs_background": "light"
     },
     "output_type": "display_data"
    }
   ],
   "source": [
    "# Plotting\n",
    "\n",
    "plt.plot(actual_stock_price, color='red', label='Actual Samsung Stock Price')\n",
    "plt.plot(predicted_stock_price, color='blue', label='Predicted Samsung Stock Price')\n",
    "plt.title('Samsung Stock Price Prediction')\n",
    "plt.xlabel('Time')\n",
    "plt.ylabel('Samsung Stock Price')\n",
    "plt.legend()\n",
    "plt.show()"
   ]
  },
  {
   "cell_type": "markdown",
   "metadata": {},
   "source": [
    "# RNN- Recurrent Neural Network"
   ]
  },
  {
   "cell_type": "code",
   "execution_count": 22,
   "metadata": {},
   "outputs": [],
   "source": [
    "import numpy as np\n",
    "import pandas as pd\n",
    "import matplotlib.pyplot as plt\n",
    "from sklearn.preprocessing import MinMaxScaler\n",
    "from keras.models import Sequential\n",
    "from keras.layers import LSTM, Dense, Dropout\n"
   ]
  },
  {
   "cell_type": "code",
   "execution_count": 23,
   "metadata": {},
   "outputs": [],
   "source": [
    "# Load dataset\n",
    "\n",
    "dataset = pd.read_csv(\"dataset.csv\")"
   ]
  },
  {
   "cell_type": "code",
   "execution_count": 24,
   "metadata": {},
   "outputs": [],
   "source": [
    "# Preprocess data\n",
    "\n",
    "scaler = MinMaxScaler(feature_range=(0, 1))\n",
    "scaled_data = scaler.fit_transform(dataset['Open'].values.reshape(-1, 1))"
   ]
  },
  {
   "cell_type": "code",
   "execution_count": 25,
   "metadata": {},
   "outputs": [],
   "source": [
    "# Split data into training and testing sets\n",
    "\n",
    "train_size = int(len(scaled_data) * 0.8)\n",
    "test_size = len(scaled_data) - train_size\n",
    "train_data, test_data = scaled_data[0:train_size, :], scaled_data[train_size:len(scaled_data), :]\n",
    "\n",
    "def create_dataset(data, time_step):\n",
    "    X, Y = [], []\n",
    "    for i in range(len(data) - time_step - 1):\n",
    "        X.append(data[i:(i + time_step), 0])\n",
    "        Y.append(data[i + time_step, 0])\n",
    "    return np.array(X), np.array(Y)\n",
    "\n",
    "time_step = 100\n",
    "X_train, Y_train = create_dataset(train_data, time_step)\n",
    "X_test, Y_test = create_dataset(test_data, time_step)\n"
   ]
  },
  {
   "cell_type": "code",
   "execution_count": 26,
   "metadata": {},
   "outputs": [],
   "source": [
    "# Reshape input to be [samples, time steps, features]\n",
    "\n",
    "X_train = X_train.reshape(X_train.shape[0], X_train.shape[1], 1)\n",
    "X_test = X_test.reshape(X_test.shape[0], X_test.shape[1], 1)\n"
   ]
  },
  {
   "cell_type": "code",
   "execution_count": 27,
   "metadata": {},
   "outputs": [],
   "source": [
    "# Define the RNN model\n",
    "\n",
    "model = Sequential()\n",
    "\n",
    "model.add(LSTM(units=50, return_sequences=True, input_shape=(X_train.shape[1], 1)))\n",
    "model.add(Dropout(0.2))\n",
    "\n",
    "model.add(LSTM(units=50, return_sequences=True))\n",
    "model.add(Dropout(0.2))\n",
    "\n",
    "model.add(LSTM(units=50))\n",
    "model.add(Dropout(0.2))\n",
    "\n",
    "model.add(Dense(units=1))\n"
   ]
  },
  {
   "cell_type": "code",
   "execution_count": 28,
   "metadata": {},
   "outputs": [],
   "source": [
    "# Compile the model with mean_squared_error as a metric\n",
    "\n",
    "model.compile(optimizer='adam', loss='mean_squared_error', metrics=['mean_squared_error'])\n"
   ]
  },
  {
   "cell_type": "code",
   "execution_count": 29,
   "metadata": {},
   "outputs": [
    {
     "name": "stdout",
     "output_type": "stream",
     "text": [
      "Epoch 1/100\n",
      "148/148 [==============================] - 29s 143ms/step - loss: 0.0036 - mean_squared_error: 0.0036 - val_loss: 9.5861e-04 - val_mean_squared_error: 9.5861e-04\n",
      "Epoch 2/100\n",
      "148/148 [==============================] - 20s 133ms/step - loss: 6.7180e-04 - mean_squared_error: 6.7180e-04 - val_loss: 0.0010 - val_mean_squared_error: 0.0010\n",
      "Epoch 3/100\n",
      "148/148 [==============================] - 20s 135ms/step - loss: 6.5192e-04 - mean_squared_error: 6.5192e-04 - val_loss: 0.0017 - val_mean_squared_error: 0.0017\n",
      "Epoch 4/100\n",
      "148/148 [==============================] - 17s 112ms/step - loss: 5.8753e-04 - mean_squared_error: 5.8753e-04 - val_loss: 0.0016 - val_mean_squared_error: 0.0016\n",
      "Epoch 5/100\n",
      "148/148 [==============================] - 13s 90ms/step - loss: 4.8624e-04 - mean_squared_error: 4.8624e-04 - val_loss: 0.0021 - val_mean_squared_error: 0.0021\n",
      "Epoch 6/100\n",
      "148/148 [==============================] - 13s 90ms/step - loss: 4.5812e-04 - mean_squared_error: 4.5812e-04 - val_loss: 0.0027 - val_mean_squared_error: 0.0027\n",
      "Epoch 7/100\n",
      "148/148 [==============================] - 13s 91ms/step - loss: 4.4794e-04 - mean_squared_error: 4.4794e-04 - val_loss: 0.0013 - val_mean_squared_error: 0.0013\n",
      "Epoch 8/100\n",
      "148/148 [==============================] - 14s 98ms/step - loss: 3.7438e-04 - mean_squared_error: 3.7438e-04 - val_loss: 9.1599e-04 - val_mean_squared_error: 9.1599e-04\n",
      "Epoch 9/100\n",
      "148/148 [==============================] - 13s 91ms/step - loss: 4.0558e-04 - mean_squared_error: 4.0558e-04 - val_loss: 7.2753e-04 - val_mean_squared_error: 7.2753e-04\n",
      "Epoch 10/100\n",
      "148/148 [==============================] - 13s 89ms/step - loss: 3.5462e-04 - mean_squared_error: 3.5462e-04 - val_loss: 7.6304e-04 - val_mean_squared_error: 7.6304e-04\n",
      "Epoch 11/100\n",
      "148/148 [==============================] - 12s 82ms/step - loss: 3.3980e-04 - mean_squared_error: 3.3980e-04 - val_loss: 7.7866e-04 - val_mean_squared_error: 7.7866e-04\n",
      "Epoch 12/100\n",
      "148/148 [==============================] - 12s 82ms/step - loss: 3.8802e-04 - mean_squared_error: 3.8802e-04 - val_loss: 0.0025 - val_mean_squared_error: 0.0025\n",
      "Epoch 13/100\n",
      "148/148 [==============================] - 12s 84ms/step - loss: 3.1561e-04 - mean_squared_error: 3.1561e-04 - val_loss: 0.0017 - val_mean_squared_error: 0.0017\n",
      "Epoch 14/100\n",
      "148/148 [==============================] - 12s 81ms/step - loss: 3.0585e-04 - mean_squared_error: 3.0585e-04 - val_loss: 0.0028 - val_mean_squared_error: 0.0028\n",
      "Epoch 15/100\n",
      "148/148 [==============================] - 14s 92ms/step - loss: 2.9751e-04 - mean_squared_error: 2.9751e-04 - val_loss: 0.0014 - val_mean_squared_error: 0.0014\n",
      "Epoch 16/100\n",
      "148/148 [==============================] - 13s 91ms/step - loss: 2.9698e-04 - mean_squared_error: 2.9698e-04 - val_loss: 0.0019 - val_mean_squared_error: 0.0019\n",
      "Epoch 17/100\n",
      "148/148 [==============================] - 13s 85ms/step - loss: 2.8961e-04 - mean_squared_error: 2.8961e-04 - val_loss: 0.0014 - val_mean_squared_error: 0.0014\n",
      "Epoch 18/100\n",
      "148/148 [==============================] - 12s 84ms/step - loss: 2.6004e-04 - mean_squared_error: 2.6004e-04 - val_loss: 6.5414e-04 - val_mean_squared_error: 6.5414e-04\n",
      "Epoch 19/100\n",
      "148/148 [==============================] - 12s 83ms/step - loss: 2.9753e-04 - mean_squared_error: 2.9753e-04 - val_loss: 0.0010 - val_mean_squared_error: 0.0010\n",
      "Epoch 20/100\n",
      "148/148 [==============================] - 13s 91ms/step - loss: 2.5786e-04 - mean_squared_error: 2.5786e-04 - val_loss: 5.9517e-04 - val_mean_squared_error: 5.9517e-04\n",
      "Epoch 21/100\n",
      "148/148 [==============================] - 14s 93ms/step - loss: 2.6832e-04 - mean_squared_error: 2.6832e-04 - val_loss: 0.0019 - val_mean_squared_error: 0.0019\n",
      "Epoch 22/100\n",
      "148/148 [==============================] - 13s 86ms/step - loss: 2.4051e-04 - mean_squared_error: 2.4051e-04 - val_loss: 0.0010 - val_mean_squared_error: 0.0010\n",
      "Epoch 23/100\n",
      "148/148 [==============================] - 14s 92ms/step - loss: 2.5607e-04 - mean_squared_error: 2.5607e-04 - val_loss: 8.4594e-04 - val_mean_squared_error: 8.4594e-04\n",
      "Epoch 24/100\n",
      "148/148 [==============================] - 13s 89ms/step - loss: 2.8779e-04 - mean_squared_error: 2.8779e-04 - val_loss: 0.0046 - val_mean_squared_error: 0.0046\n",
      "Epoch 25/100\n",
      "148/148 [==============================] - 12s 82ms/step - loss: 2.4970e-04 - mean_squared_error: 2.4970e-04 - val_loss: 0.0033 - val_mean_squared_error: 0.0033\n",
      "Epoch 26/100\n",
      "148/148 [==============================] - 13s 85ms/step - loss: 2.4557e-04 - mean_squared_error: 2.4557e-04 - val_loss: 4.5517e-04 - val_mean_squared_error: 4.5517e-04\n",
      "Epoch 27/100\n",
      "148/148 [==============================] - 12s 81ms/step - loss: 2.3836e-04 - mean_squared_error: 2.3836e-04 - val_loss: 7.2644e-04 - val_mean_squared_error: 7.2644e-04\n",
      "Epoch 28/100\n",
      "148/148 [==============================] - 13s 86ms/step - loss: 2.1848e-04 - mean_squared_error: 2.1848e-04 - val_loss: 0.0011 - val_mean_squared_error: 0.0011\n",
      "Epoch 29/100\n",
      "148/148 [==============================] - 16s 106ms/step - loss: 2.3805e-04 - mean_squared_error: 2.3805e-04 - val_loss: 0.0014 - val_mean_squared_error: 0.0014\n",
      "Epoch 30/100\n",
      "148/148 [==============================] - 18s 120ms/step - loss: 2.5351e-04 - mean_squared_error: 2.5351e-04 - val_loss: 8.2574e-04 - val_mean_squared_error: 8.2574e-04\n",
      "Epoch 31/100\n",
      "148/148 [==============================] - 19s 127ms/step - loss: 2.1703e-04 - mean_squared_error: 2.1703e-04 - val_loss: 9.2924e-04 - val_mean_squared_error: 9.2924e-04\n",
      "Epoch 32/100\n",
      "148/148 [==============================] - 20s 138ms/step - loss: 2.2738e-04 - mean_squared_error: 2.2738e-04 - val_loss: 0.0018 - val_mean_squared_error: 0.0018\n",
      "Epoch 33/100\n",
      "148/148 [==============================] - 20s 134ms/step - loss: 2.3317e-04 - mean_squared_error: 2.3317e-04 - val_loss: 5.2288e-04 - val_mean_squared_error: 5.2288e-04\n",
      "Epoch 34/100\n",
      "148/148 [==============================] - 20s 136ms/step - loss: 2.5881e-04 - mean_squared_error: 2.5881e-04 - val_loss: 0.0045 - val_mean_squared_error: 0.0045\n",
      "Epoch 35/100\n",
      "148/148 [==============================] - 20s 136ms/step - loss: 2.5352e-04 - mean_squared_error: 2.5352e-04 - val_loss: 0.0016 - val_mean_squared_error: 0.0016\n",
      "Epoch 36/100\n",
      "148/148 [==============================] - 21s 139ms/step - loss: 2.2083e-04 - mean_squared_error: 2.2083e-04 - val_loss: 8.1099e-04 - val_mean_squared_error: 8.1099e-04\n",
      "Epoch 37/100\n",
      "148/148 [==============================] - 20s 136ms/step - loss: 2.4847e-04 - mean_squared_error: 2.4847e-04 - val_loss: 0.0023 - val_mean_squared_error: 0.0023\n",
      "Epoch 38/100\n",
      "148/148 [==============================] - 20s 137ms/step - loss: 2.3309e-04 - mean_squared_error: 2.3309e-04 - val_loss: 0.0021 - val_mean_squared_error: 0.0021\n",
      "Epoch 39/100\n",
      "148/148 [==============================] - 20s 137ms/step - loss: 2.1775e-04 - mean_squared_error: 2.1775e-04 - val_loss: 0.0018 - val_mean_squared_error: 0.0018\n",
      "Epoch 40/100\n",
      "148/148 [==============================] - 23s 155ms/step - loss: 2.3227e-04 - mean_squared_error: 2.3227e-04 - val_loss: 8.1066e-04 - val_mean_squared_error: 8.1066e-04\n",
      "Epoch 41/100\n",
      "148/148 [==============================] - 20s 135ms/step - loss: 2.1500e-04 - mean_squared_error: 2.1500e-04 - val_loss: 7.3230e-04 - val_mean_squared_error: 7.3230e-04\n",
      "Epoch 42/100\n",
      "148/148 [==============================] - 22s 149ms/step - loss: 2.1917e-04 - mean_squared_error: 2.1917e-04 - val_loss: 9.8954e-04 - val_mean_squared_error: 9.8954e-04\n",
      "Epoch 43/100\n",
      "148/148 [==============================] - 20s 138ms/step - loss: 2.0829e-04 - mean_squared_error: 2.0829e-04 - val_loss: 0.0012 - val_mean_squared_error: 0.0012\n",
      "Epoch 44/100\n",
      "148/148 [==============================] - 20s 133ms/step - loss: 2.3775e-04 - mean_squared_error: 2.3775e-04 - val_loss: 0.0020 - val_mean_squared_error: 0.0020\n",
      "Epoch 45/100\n",
      "148/148 [==============================] - 22s 147ms/step - loss: 2.1568e-04 - mean_squared_error: 2.1568e-04 - val_loss: 0.0019 - val_mean_squared_error: 0.0019\n",
      "Epoch 46/100\n",
      "148/148 [==============================] - 22s 151ms/step - loss: 2.1796e-04 - mean_squared_error: 2.1796e-04 - val_loss: 0.0021 - val_mean_squared_error: 0.0021\n",
      "Epoch 47/100\n"
     ]
    },
    {
     "name": "stdout",
     "output_type": "stream",
     "text": [
      "148/148 [==============================] - 23s 154ms/step - loss: 1.9522e-04 - mean_squared_error: 1.9522e-04 - val_loss: 0.0017 - val_mean_squared_error: 0.0017\n",
      "Epoch 48/100\n",
      "148/148 [==============================] - 19s 130ms/step - loss: 2.1152e-04 - mean_squared_error: 2.1152e-04 - val_loss: 0.0013 - val_mean_squared_error: 0.0013\n",
      "Epoch 49/100\n",
      "148/148 [==============================] - 20s 135ms/step - loss: 1.9114e-04 - mean_squared_error: 1.9114e-04 - val_loss: 0.0022 - val_mean_squared_error: 0.0022\n",
      "Epoch 50/100\n",
      "148/148 [==============================] - 19s 127ms/step - loss: 2.1157e-04 - mean_squared_error: 2.1157e-04 - val_loss: 0.0022 - val_mean_squared_error: 0.0022\n",
      "Epoch 51/100\n",
      "148/148 [==============================] - 20s 138ms/step - loss: 2.1282e-04 - mean_squared_error: 2.1282e-04 - val_loss: 0.0017 - val_mean_squared_error: 0.0017\n",
      "Epoch 52/100\n",
      "148/148 [==============================] - 20s 136ms/step - loss: 2.1152e-04 - mean_squared_error: 2.1152e-04 - val_loss: 0.0017 - val_mean_squared_error: 0.0017\n",
      "Epoch 53/100\n",
      "148/148 [==============================] - 19s 130ms/step - loss: 2.4767e-04 - mean_squared_error: 2.4767e-04 - val_loss: 0.0027 - val_mean_squared_error: 0.0027\n",
      "Epoch 54/100\n",
      "148/148 [==============================] - 19s 127ms/step - loss: 2.1527e-04 - mean_squared_error: 2.1527e-04 - val_loss: 0.0029 - val_mean_squared_error: 0.0029\n",
      "Epoch 55/100\n",
      "148/148 [==============================] - 20s 135ms/step - loss: 2.1149e-04 - mean_squared_error: 2.1149e-04 - val_loss: 0.0024 - val_mean_squared_error: 0.0024\n",
      "Epoch 56/100\n",
      "148/148 [==============================] - 19s 131ms/step - loss: 2.0603e-04 - mean_squared_error: 2.0603e-04 - val_loss: 0.0039 - val_mean_squared_error: 0.0039\n",
      "Epoch 57/100\n",
      "148/148 [==============================] - 19s 128ms/step - loss: 2.2169e-04 - mean_squared_error: 2.2169e-04 - val_loss: 0.0028 - val_mean_squared_error: 0.0028\n",
      "Epoch 58/100\n",
      "148/148 [==============================] - 19s 126ms/step - loss: 2.0078e-04 - mean_squared_error: 2.0078e-04 - val_loss: 0.0056 - val_mean_squared_error: 0.0056\n",
      "Epoch 59/100\n",
      "148/148 [==============================] - 20s 134ms/step - loss: 2.1640e-04 - mean_squared_error: 2.1640e-04 - val_loss: 0.0044 - val_mean_squared_error: 0.0044\n",
      "Epoch 60/100\n",
      "148/148 [==============================] - 20s 135ms/step - loss: 1.9735e-04 - mean_squared_error: 1.9735e-04 - val_loss: 0.0026 - val_mean_squared_error: 0.0026\n",
      "Epoch 61/100\n",
      "148/148 [==============================] - 22s 150ms/step - loss: 2.1681e-04 - mean_squared_error: 2.1681e-04 - val_loss: 0.0022 - val_mean_squared_error: 0.0022\n",
      "Epoch 62/100\n",
      "148/148 [==============================] - 18s 124ms/step - loss: 2.0407e-04 - mean_squared_error: 2.0407e-04 - val_loss: 0.0037 - val_mean_squared_error: 0.0037\n",
      "Epoch 63/100\n",
      "148/148 [==============================] - 18s 123ms/step - loss: 2.0283e-04 - mean_squared_error: 2.0283e-04 - val_loss: 0.0022 - val_mean_squared_error: 0.0022\n",
      "Epoch 64/100\n",
      "148/148 [==============================] - 19s 129ms/step - loss: 2.1181e-04 - mean_squared_error: 2.1181e-04 - val_loss: 0.0053 - val_mean_squared_error: 0.0053\n",
      "Epoch 65/100\n",
      "148/148 [==============================] - 18s 122ms/step - loss: 1.8063e-04 - mean_squared_error: 1.8063e-04 - val_loss: 0.0029 - val_mean_squared_error: 0.0029\n",
      "Epoch 66/100\n",
      "148/148 [==============================] - 19s 128ms/step - loss: 1.8497e-04 - mean_squared_error: 1.8497e-04 - val_loss: 0.0027 - val_mean_squared_error: 0.0027\n",
      "Epoch 67/100\n",
      "148/148 [==============================] - 19s 125ms/step - loss: 2.1594e-04 - mean_squared_error: 2.1594e-04 - val_loss: 0.0034 - val_mean_squared_error: 0.0034\n",
      "Epoch 68/100\n",
      "148/148 [==============================] - 19s 129ms/step - loss: 2.2213e-04 - mean_squared_error: 2.2213e-04 - val_loss: 0.0060 - val_mean_squared_error: 0.0060\n",
      "Epoch 69/100\n",
      "148/148 [==============================] - 19s 128ms/step - loss: 2.0223e-04 - mean_squared_error: 2.0223e-04 - val_loss: 0.0029 - val_mean_squared_error: 0.0029\n",
      "Epoch 70/100\n",
      "148/148 [==============================] - 19s 129ms/step - loss: 2.1419e-04 - mean_squared_error: 2.1419e-04 - val_loss: 0.0047 - val_mean_squared_error: 0.0047\n",
      "Epoch 71/100\n",
      "148/148 [==============================] - 18s 124ms/step - loss: 1.9632e-04 - mean_squared_error: 1.9632e-04 - val_loss: 0.0025 - val_mean_squared_error: 0.0025\n",
      "Epoch 72/100\n",
      "148/148 [==============================] - 18s 124ms/step - loss: 1.9535e-04 - mean_squared_error: 1.9535e-04 - val_loss: 0.0035 - val_mean_squared_error: 0.0035\n",
      "Epoch 73/100\n",
      "148/148 [==============================] - 19s 126ms/step - loss: 1.9967e-04 - mean_squared_error: 1.9967e-04 - val_loss: 0.0040 - val_mean_squared_error: 0.0040\n",
      "Epoch 74/100\n",
      "148/148 [==============================] - 20s 135ms/step - loss: 2.2083e-04 - mean_squared_error: 2.2083e-04 - val_loss: 0.0075 - val_mean_squared_error: 0.0075\n",
      "Epoch 75/100\n",
      "148/148 [==============================] - 20s 134ms/step - loss: 2.0281e-04 - mean_squared_error: 2.0281e-04 - val_loss: 0.0014 - val_mean_squared_error: 0.0014\n",
      "Epoch 76/100\n",
      "148/148 [==============================] - 19s 128ms/step - loss: 2.0729e-04 - mean_squared_error: 2.0729e-04 - val_loss: 0.0027 - val_mean_squared_error: 0.0027\n",
      "Epoch 77/100\n",
      "148/148 [==============================] - 19s 129ms/step - loss: 1.8996e-04 - mean_squared_error: 1.8996e-04 - val_loss: 0.0050 - val_mean_squared_error: 0.0050\n",
      "Epoch 78/100\n",
      "148/148 [==============================] - 21s 143ms/step - loss: 2.1092e-04 - mean_squared_error: 2.1092e-04 - val_loss: 0.0048 - val_mean_squared_error: 0.0048\n",
      "Epoch 79/100\n",
      "148/148 [==============================] - 19s 125ms/step - loss: 1.9685e-04 - mean_squared_error: 1.9685e-04 - val_loss: 0.0026 - val_mean_squared_error: 0.0026\n",
      "Epoch 80/100\n",
      "148/148 [==============================] - 19s 128ms/step - loss: 1.8985e-04 - mean_squared_error: 1.8985e-04 - val_loss: 0.0019 - val_mean_squared_error: 0.0019\n",
      "Epoch 81/100\n",
      "148/148 [==============================] - 26s 179ms/step - loss: 1.9193e-04 - mean_squared_error: 1.9193e-04 - val_loss: 0.0044 - val_mean_squared_error: 0.0044\n",
      "Epoch 82/100\n",
      "148/148 [==============================] - 23s 153ms/step - loss: 2.0392e-04 - mean_squared_error: 2.0392e-04 - val_loss: 0.0067 - val_mean_squared_error: 0.0067\n",
      "Epoch 83/100\n",
      "148/148 [==============================] - 22s 147ms/step - loss: 2.1679e-04 - mean_squared_error: 2.1679e-04 - val_loss: 0.0046 - val_mean_squared_error: 0.0046\n",
      "Epoch 84/100\n",
      "148/148 [==============================] - 21s 143ms/step - loss: 1.8537e-04 - mean_squared_error: 1.8537e-04 - val_loss: 0.0041 - val_mean_squared_error: 0.0041\n",
      "Epoch 85/100\n",
      "148/148 [==============================] - 19s 131ms/step - loss: 1.9471e-04 - mean_squared_error: 1.9471e-04 - val_loss: 0.0038 - val_mean_squared_error: 0.0038\n",
      "Epoch 86/100\n",
      "148/148 [==============================] - 18s 125ms/step - loss: 2.0338e-04 - mean_squared_error: 2.0338e-04 - val_loss: 0.0049 - val_mean_squared_error: 0.0049\n",
      "Epoch 87/100\n",
      "148/148 [==============================] - 20s 134ms/step - loss: 1.9094e-04 - mean_squared_error: 1.9094e-04 - val_loss: 0.0039 - val_mean_squared_error: 0.0039\n",
      "Epoch 88/100\n",
      "148/148 [==============================] - 21s 145ms/step - loss: 2.1028e-04 - mean_squared_error: 2.1028e-04 - val_loss: 0.0041 - val_mean_squared_error: 0.0041\n",
      "Epoch 89/100\n",
      "148/148 [==============================] - 23s 153ms/step - loss: 1.8707e-04 - mean_squared_error: 1.8707e-04 - val_loss: 0.0054 - val_mean_squared_error: 0.0054\n",
      "Epoch 90/100\n",
      "148/148 [==============================] - 22s 149ms/step - loss: 1.9700e-04 - mean_squared_error: 1.9700e-04 - val_loss: 0.0085 - val_mean_squared_error: 0.0085\n",
      "Epoch 91/100\n",
      "148/148 [==============================] - 22s 148ms/step - loss: 1.9487e-04 - mean_squared_error: 1.9487e-04 - val_loss: 0.0034 - val_mean_squared_error: 0.0034\n",
      "Epoch 92/100\n",
      "148/148 [==============================] - 21s 144ms/step - loss: 1.9068e-04 - mean_squared_error: 1.9068e-04 - val_loss: 0.0029 - val_mean_squared_error: 0.0029\n",
      "Epoch 93/100\n",
      "148/148 [==============================] - 20s 138ms/step - loss: 2.0399e-04 - mean_squared_error: 2.0399e-04 - val_loss: 0.0044 - val_mean_squared_error: 0.0044\n"
     ]
    },
    {
     "name": "stdout",
     "output_type": "stream",
     "text": [
      "Epoch 94/100\n",
      "148/148 [==============================] - 20s 139ms/step - loss: 1.8049e-04 - mean_squared_error: 1.8049e-04 - val_loss: 0.0035 - val_mean_squared_error: 0.0035\n",
      "Epoch 95/100\n",
      "148/148 [==============================] - 20s 139ms/step - loss: 1.8721e-04 - mean_squared_error: 1.8721e-04 - val_loss: 0.0036 - val_mean_squared_error: 0.0036\n",
      "Epoch 96/100\n",
      "148/148 [==============================] - 19s 128ms/step - loss: 1.7499e-04 - mean_squared_error: 1.7499e-04 - val_loss: 0.0063 - val_mean_squared_error: 0.0063\n",
      "Epoch 97/100\n",
      "148/148 [==============================] - 19s 128ms/step - loss: 1.9508e-04 - mean_squared_error: 1.9508e-04 - val_loss: 0.0057 - val_mean_squared_error: 0.0057\n",
      "Epoch 98/100\n",
      "148/148 [==============================] - 19s 131ms/step - loss: 1.9808e-04 - mean_squared_error: 1.9808e-04 - val_loss: 0.0052 - val_mean_squared_error: 0.0052\n",
      "Epoch 99/100\n",
      "148/148 [==============================] - 19s 129ms/step - loss: 1.9721e-04 - mean_squared_error: 1.9721e-04 - val_loss: 0.0090 - val_mean_squared_error: 0.0090\n",
      "Epoch 100/100\n",
      "148/148 [==============================] - 19s 127ms/step - loss: 1.7888e-04 - mean_squared_error: 1.7888e-04 - val_loss: 0.0088 - val_mean_squared_error: 0.0088\n"
     ]
    }
   ],
   "source": [
    "# Train the model\n",
    "\n",
    "history = model.fit(X_train, Y_train, epochs=100, batch_size=32, validation_data=(X_test, Y_test))\n"
   ]
  },
  {
   "cell_type": "code",
   "execution_count": 30,
   "metadata": {},
   "outputs": [
    {
     "name": "stdout",
     "output_type": "stream",
     "text": [
      "35/35 [==============================] - 4s 47ms/step\n"
     ]
    }
   ],
   "source": [
    "# Make predictions\n",
    "\n",
    "predictions = model.predict(X_test)\n"
   ]
  },
  {
   "cell_type": "code",
   "execution_count": 31,
   "metadata": {},
   "outputs": [],
   "source": [
    "# Inverse scaling\n",
    "\n",
    "predictions = scaler.inverse_transform(predictions)\n",
    "Y_test = scaler.inverse_transform(Y_test.reshape(-1, 1))\n"
   ]
  },
  {
   "cell_type": "code",
   "execution_count": 32,
   "metadata": {},
   "outputs": [
    {
     "name": "stdout",
     "output_type": "stream",
     "text": [
      "Test MSE: 71643911.31610885\n",
      "Test MAE: 7524.791362573264\n"
     ]
    }
   ],
   "source": [
    "# Calculate Mean Squared Error (MSE) and Mean Absolute Error (MAE) for testing data\n",
    "\n",
    "test_mse = np.mean(np.square(predictions - Y_test))\n",
    "test_mae = np.mean(np.abs(predictions - Y_test))\n",
    "print(\"Test MSE:\", test_mse)\n",
    "print(\"Test MAE:\", test_mae)\n"
   ]
  },
  {
   "cell_type": "code",
   "execution_count": 33,
   "metadata": {},
   "outputs": [
    {
     "name": "stdout",
     "output_type": "stream",
     "text": [
      "Train MSE: 0.00017887516878545284\n"
     ]
    }
   ],
   "source": [
    "# Print Mean Squared Error (MSE) for training data\n",
    "\n",
    "train_mse = history.history['mean_squared_error'][-1]\n",
    "print(\"Train MSE:\", train_mse)\n"
   ]
  },
  {
   "cell_type": "code",
   "execution_count": 35,
   "metadata": {},
   "outputs": [
    {
     "data": {
      "image/png": "[encoded data removed]",
      "text/plain": [
       "<Figure size 432x288 with 1 Axes>"
      ]
     },
     "metadata": {
      "needs_background": "light"
     },
     "output_type": "display_data"
    }
   ],
   "source": [
    "# Plot training and validation loss\n",
    "\n",
    "plt.plot(history.history['loss'], label='Training Loss')\n",
    "plt.plot(history.history['val_loss'], label='Validation Loss')\n",
    "plt.xlabel('Epoch')\n",
    "plt.ylabel('Loss')\n",
    "plt.legend()\n",
    "plt.show()\n",
    "\n"
   ]
  },
  {
   "cell_type": "code",
   "execution_count": 36,
   "metadata": {},
   "outputs": [
    {
     "data": {
      "image/png": "[encoded data removed]",
      "text/plain": [
       "<Figure size 432x288 with 1 Axes>"
      ]
     },
     "metadata": {
      "needs_background": "light"
     },
     "output_type": "display_data"
    }
   ],
   "source": [
    "plt.plot(Y_test, color='red', label='Actual Samsung Stock Price')\n",
    "plt.plot(predictions, color='blue', label='Predicted Samsung Stock Price')\n",
    "plt.title('Samsung Stock Price Prediction')\n",
    "plt.xlabel('Time')\n",
    "plt.ylabel('Stock Price')\n",
    "plt.legend()\n",
    "plt.show()"
   ]
  }
 ],
 "metadata": {
  "kernelspec": {
   "display_name": "Python 3",
   "language": "python",
   "name": "python3"
  },
  "language_info": {
   "codemirror_mode": {
    "name": "ipython",
    "version": 3
   },
   "file_extension": ".py",
   "mimetype": "text/x-python",
   "name": "python",
   "nbconvert_exporter": "python",
   "pygments_lexer": "ipython3",
   "version": "3.8.3"
  }
 },
 "nbformat": 4,
 "nbformat_minor": 4
}
